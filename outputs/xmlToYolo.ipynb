{
 "cells": [
  {
   "cell_type": "code",
   "execution_count": 21,
   "metadata": {},
   "outputs": [
    {
     "name": "stdout",
     "output_type": "stream",
     "text": [
      "data1.xml\n",
      "data2.xml\n",
      "data3.xml\n",
      "data4.xml\n",
      "data5.xml\n"
     ]
    },
    {
     "ename": "PermissionError",
     "evalue": "[Errno 13] Permission denied: 'd:\\\\application\\\\Newfolder\\\\dataset\\\\outputs\\\\txt'",
     "output_type": "error",
     "traceback": [
      "\u001b[1;31m---------------------------------------------------------------------------\u001b[0m",
      "\u001b[1;31mPermissionError\u001b[0m                           Traceback (most recent call last)",
      "Cell \u001b[1;32mIn[21], line 15\u001b[0m\n\u001b[0;32m     10\u001b[0m     os\u001b[39m.\u001b[39mmakedirs(newdir)\n\u001b[0;32m     12\u001b[0m \u001b[39mfor\u001b[39;00m fp \u001b[39min\u001b[39;00m os\u001b[39m.\u001b[39mlistdir(dirpath):\n\u001b[1;32m---> 15\u001b[0m     root \u001b[39m=\u001b[39m ET\u001b[39m.\u001b[39;49mparse(os\u001b[39m.\u001b[39;49mpath\u001b[39m.\u001b[39;49mjoin(dirpath, fp))\u001b[39m.\u001b[39mgetroot()\n\u001b[0;32m     17\u001b[0m     xmin, ymin, xmax, ymax \u001b[39m=\u001b[39m \u001b[39m0\u001b[39m, \u001b[39m0\u001b[39m, \u001b[39m0\u001b[39m, \u001b[39m0\u001b[39m\n\u001b[0;32m     18\u001b[0m     sz \u001b[39m=\u001b[39m root\u001b[39m.\u001b[39mfind(\u001b[39m'\u001b[39m\u001b[39msize\u001b[39m\u001b[39m'\u001b[39m)\n",
      "File \u001b[1;32md:\\application\\python\\Lib\\xml\\etree\\ElementTree.py:1218\u001b[0m, in \u001b[0;36mparse\u001b[1;34m(source, parser)\u001b[0m\n\u001b[0;32m   1209\u001b[0m \u001b[39m\u001b[39m\u001b[39m\"\"\"Parse XML document into element tree.\u001b[39;00m\n\u001b[0;32m   1210\u001b[0m \n\u001b[0;32m   1211\u001b[0m \u001b[39m*source* is a filename or file object containing XML data,\u001b[39;00m\n\u001b[1;32m   (...)\u001b[0m\n\u001b[0;32m   1215\u001b[0m \n\u001b[0;32m   1216\u001b[0m \u001b[39m\"\"\"\u001b[39;00m\n\u001b[0;32m   1217\u001b[0m tree \u001b[39m=\u001b[39m ElementTree()\n\u001b[1;32m-> 1218\u001b[0m tree\u001b[39m.\u001b[39;49mparse(source, parser)\n\u001b[0;32m   1219\u001b[0m \u001b[39mreturn\u001b[39;00m tree\n",
      "File \u001b[1;32md:\\application\\python\\Lib\\xml\\etree\\ElementTree.py:569\u001b[0m, in \u001b[0;36mElementTree.parse\u001b[1;34m(self, source, parser)\u001b[0m\n\u001b[0;32m    567\u001b[0m close_source \u001b[39m=\u001b[39m \u001b[39mFalse\u001b[39;00m\n\u001b[0;32m    568\u001b[0m \u001b[39mif\u001b[39;00m \u001b[39mnot\u001b[39;00m \u001b[39mhasattr\u001b[39m(source, \u001b[39m\"\u001b[39m\u001b[39mread\u001b[39m\u001b[39m\"\u001b[39m):\n\u001b[1;32m--> 569\u001b[0m     source \u001b[39m=\u001b[39m \u001b[39mopen\u001b[39m(source, \u001b[39m\"\u001b[39m\u001b[39mrb\u001b[39m\u001b[39m\"\u001b[39m)\n\u001b[0;32m    570\u001b[0m     close_source \u001b[39m=\u001b[39m \u001b[39mTrue\u001b[39;00m\n\u001b[0;32m    571\u001b[0m \u001b[39mtry\u001b[39;00m:\n",
      "\u001b[1;31mPermissionError\u001b[0m: [Errno 13] Permission denied: 'd:\\\\application\\\\Newfolder\\\\dataset\\\\outputs\\\\txt'"
     ]
    }
   ],
   "source": [
    "import os\n",
    "import xml.etree.ElementTree as ET\n",
    "from decimal import Decimal\n",
    "\n",
    "dirpath = 'd:\\\\application\\\\Newfolder\\\\dataset\\\\outputs'  # 原来存放xml文件的目录\n",
    "\n",
    "newdir = 'd:\\\\application\\\\Newfolder\\\\dataset\\\\txt'  # 修改label后形成的txt目录\n",
    "\n",
    "if not os.path.exists(newdir):\n",
    "    os.makedirs(newdir)\n",
    "\n",
    "for fp in os.listdir(dirpath):\n",
    "\n",
    "\n",
    "    root = ET.parse(os.path.join(dirpath, fp)).getroot()\n",
    "\n",
    "    xmin, ymin, xmax, ymax = 0, 0, 0, 0\n",
    "    sz = root.find('size')\n",
    "    width = float(sz[0].text)\n",
    "    height = float(sz[1].text)\n",
    "    # filename = root.find('filename').text\n",
    "    print(fp)\n",
    "    with open(os.path.join(newdir, fp.split('.')[0] + '.txt'), 'a+') as f:\n",
    "        for child in root.findall('object'):  # 找到图片中的所有框\n",
    "\n",
    "            sub = child.find('bndbox')  # 找到框的标注值并进行读取\n",
    "            sub_label = child.find('name')\n",
    "            xmin = float(sub[0].text)\n",
    "            ymin = float(sub[1].text)\n",
    "            xmax = float(sub[2].text)\n",
    "            ymax = float(sub[3].text)\n",
    "            try:  # 转换成yolov的标签格式，需要归一化到（0-1）的范围内\n",
    "                x_center = Decimal(str(round(float((xmin + xmax) / (2 * width)),6))).quantize(Decimal('0.000000'))\n",
    "                y_center = Decimal(str(round(float((ymin + ymax) / (2 * height)),6))).quantize(Decimal('0.000000'))\n",
    "                w = Decimal(str(round(float((xmax - xmin) / width),6))).quantize(Decimal('0.000000'))\n",
    "                h = Decimal(str(round(float((ymax - ymin) / height),6))).quantize(Decimal('0.000000'))\n",
    "                print(str(x_center) + ' ' + str(y_center)+ ' '+str(w)+ ' '+str(h))\n",
    "                #读取需要的标签\n",
    "                #if sub_label.text == 'armor':\n",
    "                f.write(' '.join([str(0), str(x_center), str(y_center), str(w), str(h) + '\\n']))\n",
    "\n",
    "            except ZeroDivisionError:\n",
    "                print(' width有问题')\n",
    "            '''有其他标签选用\n",
    "                            if sub_label.text == 'xxx':\n",
    "                                f.write(' '.join([str(1), str(x_center), str(y_center), str(w), str(h) + '\\n']))\n",
    "                            if sub_label.text == 'xxx':\n",
    "                                f.write(' '.join([str(2), str(x_center), str(y_center), str(w), str(h) + '\\n']))'''\n",
    "            # with open(os.path.join(newdir, fp.split('.')[0] + '.txt'), 'a+') as f:\n",
    "            #     f.write(' '.join([str(2), str(x_center), str(y_center), str(w), str(h) + '\\n']))"
   ]
  },
  {
   "cell_type": "code",
   "execution_count": null,
   "metadata": {},
   "outputs": [
    {
     "data": {
      "text/plain": [
       "'d:\\\\application\\\\Newfolder\\\\dataset'"
      ]
     },
     "execution_count": 5,
     "metadata": {},
     "output_type": "execute_result"
    }
   ],
   "source": [
    "pwd\n"
   ]
  }
 ],
 "metadata": {
  "kernelspec": {
   "display_name": "Python 3",
   "language": "python",
   "name": "python3"
  },
  "language_info": {
   "codemirror_mode": {
    "name": "ipython",
    "version": 3
   },
   "file_extension": ".py",
   "mimetype": "text/x-python",
   "name": "python",
   "nbconvert_exporter": "python",
   "pygments_lexer": "ipython3",
   "version": "3.11.4"
  },
  "orig_nbformat": 4
 },
 "nbformat": 4,
 "nbformat_minor": 2
}
