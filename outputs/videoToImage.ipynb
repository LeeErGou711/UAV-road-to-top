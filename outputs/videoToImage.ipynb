{
 "cells": [
  {
   "cell_type": "code",
   "execution_count": 1,
   "metadata": {},
   "outputs": [],
   "source": [
    "import cv2\n",
    "\n",
    "# 打开视频文件\n",
    "video = cv2.VideoCapture('data1.mp4')\n",
    "\n",
    "# 获取视频的帧速率（每秒多少帧）\n",
    "fps = video.get(cv2.CAP_PROP_FPS)/10\n",
    "\n",
    "# 逐帧提取并保存图像\n",
    "count = 0\n",
    "while True:\n",
    "    # 读取视频中的一帧\n",
    "    ret, frame = video.read()\n",
    "    \n",
    "    # 如果无法读取到帧，则跳出循环\n",
    "    if not ret:\n",
    "        break\n",
    "    \n",
    "    # 对帧进行处理或保存\n",
    "    # 这里只是简单地将每一帧保存为图片文件\n",
    "    cv2.imwrite(f'frame_{count}.jpg', frame)\n",
    "    \n",
    "    # 显示当前帧\n",
    "    cv2.imshow('Frame', frame)\n",
    "    \n",
    "    # 按ESC键退出显示\n",
    "    if cv2.waitKey(int(1000/fps)) & 0xFF == 27:\n",
    "        break\n",
    "    \n",
    "    count += 1\n",
    "\n",
    "# 释放资源\n",
    "video.release()\n",
    "cv2.destroyAllWindows()\n"
   ]
  }
 ],
 "metadata": {
  "kernelspec": {
   "display_name": "Python 3",
   "language": "python",
   "name": "python3"
  },
  "language_info": {
   "codemirror_mode": {
    "name": "ipython",
    "version": 3
   },
   "file_extension": ".py",
   "mimetype": "text/x-python",
   "name": "python",
   "nbconvert_exporter": "python",
   "pygments_lexer": "ipython3",
   "version": "3.11.4"
  },
  "orig_nbformat": 4
 },
 "nbformat": 4,
 "nbformat_minor": 2
}
